{
  "nbformat": 4,
  "nbformat_minor": 0,
  "metadata": {
    "colab": {
      "name": "FIFA_20_18.ipynb",
      "version": "0.3.2",
      "provenance": []
    },
    "language_info": {
      "codemirror_mode": {
        "name": "ipython",
        "version": 3
      },
      "file_extension": ".py",
      "mimetype": "text/x-python",
      "name": "python",
      "nbconvert_exporter": "python",
      "pygments_lexer": "ipython3",
      "version": "3.7.1"
    },
    "kernelspec": {
      "display_name": "Python 3",
      "language": "python",
      "name": "python3"
    }
  },
  "cells": [
    {
      "cell_type": "markdown",
      "metadata": {
        "id": "-WOH3fGZoTjC",
        "colab_type": "text"
      },
      "source": [
        "# Library Declaration"
      ]
    },
    {
      "cell_type": "code",
      "metadata": {
        "id": "TzXq5kdQoTjG",
        "colab_type": "code",
        "colab": {}
      },
      "source": [
        "import numpy as np\n",
        "import pandas as pd\n",
        "import seaborn as sns\n",
        "import matplotlib.pyplot as plt\n",
        "%matplotlib inline\n",
        "from sklearn.model_selection import train_test_split\n",
        "import scipy.stats as stats\n",
        "import math\n",
        "from sklearn import metrics\n",
        "#import statsmodels.formula.api as smf\n",
        "from sklearn.neighbors import KNeighborsClassifier\n",
        "from sklearn.linear_model import LogisticRegression\n",
        "from sklearn.tree import DecisionTreeClassifier\n",
        "from sklearn.ensemble import RandomForestClassifier\n",
        "# from sklearn.ensemble import RandomForestRegressor"
      ],
      "execution_count": 0,
      "outputs": []
    },
    {
      "cell_type": "markdown",
      "metadata": {
        "id": "ZjMdOyzioTjM",
        "colab_type": "text"
      },
      "source": [
        "# Reading Dataset"
      ]
    },
    {
      "cell_type": "code",
      "metadata": {
        "id": "TzkxAd8soTjN",
        "colab_type": "code",
        "outputId": "14489e47-f881-4613-be37-a61128b152e1",
        "colab": {
          "base_uri": "https://localhost:8080/",
          "height": 74
        }
      },
      "source": [
        "fifa = pd.read_csv('CompleteDataset.csv')"
      ],
      "execution_count": 8,
      "outputs": [
        {
          "output_type": "stream",
          "text": [
            "/usr/local/lib/python3.6/dist-packages/IPython/core/interactiveshell.py:2718: DtypeWarning: Columns (23,35) have mixed types. Specify dtype option on import or set low_memory=False.\n",
            "  interactivity=interactivity, compiler=compiler, result=result)\n"
          ],
          "name": "stderr"
        }
      ]
    },
    {
      "cell_type": "code",
      "metadata": {
        "id": "RfXT8NP5oTjS",
        "colab_type": "code",
        "outputId": "af31c6e4-a297-4f12-f9ad-f8c3331a8895",
        "colab": {
          "base_uri": "https://localhost:8080/",
          "height": 434
        }
      },
      "source": [
        "fifa.head()"
      ],
      "execution_count": 9,
      "outputs": [
        {
          "output_type": "execute_result",
          "data": {
            "text/html": [
              "<div>\n",
              "<style scoped>\n",
              "    .dataframe tbody tr th:only-of-type {\n",
              "        vertical-align: middle;\n",
              "    }\n",
              "\n",
              "    .dataframe tbody tr th {\n",
              "        vertical-align: top;\n",
              "    }\n",
              "\n",
              "    .dataframe thead th {\n",
              "        text-align: right;\n",
              "    }\n",
              "</style>\n",
              "<table border=\"1\" class=\"dataframe\">\n",
              "  <thead>\n",
              "    <tr style=\"text-align: right;\">\n",
              "      <th></th>\n",
              "      <th>Unnamed: 0</th>\n",
              "      <th>Name</th>\n",
              "      <th>Age</th>\n",
              "      <th>Photo</th>\n",
              "      <th>Nationality</th>\n",
              "      <th>Flag</th>\n",
              "      <th>Overall</th>\n",
              "      <th>Potential</th>\n",
              "      <th>Club</th>\n",
              "      <th>Club Logo</th>\n",
              "      <th>Value</th>\n",
              "      <th>Wage</th>\n",
              "      <th>Special</th>\n",
              "      <th>Acceleration</th>\n",
              "      <th>Aggression</th>\n",
              "      <th>Agility</th>\n",
              "      <th>Balance</th>\n",
              "      <th>Ball control</th>\n",
              "      <th>Composure</th>\n",
              "      <th>Crossing</th>\n",
              "      <th>Curve</th>\n",
              "      <th>Dribbling</th>\n",
              "      <th>Finishing</th>\n",
              "      <th>Free kick accuracy</th>\n",
              "      <th>GK diving</th>\n",
              "      <th>GK handling</th>\n",
              "      <th>GK kicking</th>\n",
              "      <th>GK positioning</th>\n",
              "      <th>GK reflexes</th>\n",
              "      <th>Heading accuracy</th>\n",
              "      <th>Interceptions</th>\n",
              "      <th>Jumping</th>\n",
              "      <th>Long passing</th>\n",
              "      <th>Long shots</th>\n",
              "      <th>Marking</th>\n",
              "      <th>Penalties</th>\n",
              "      <th>Positioning</th>\n",
              "      <th>Reactions</th>\n",
              "      <th>Short passing</th>\n",
              "      <th>Shot power</th>\n",
              "      <th>Sliding tackle</th>\n",
              "      <th>Sprint speed</th>\n",
              "      <th>Stamina</th>\n",
              "      <th>Standing tackle</th>\n",
              "      <th>Strength</th>\n",
              "      <th>Vision</th>\n",
              "      <th>Volleys</th>\n",
              "      <th>CAM</th>\n",
              "      <th>CB</th>\n",
              "      <th>CDM</th>\n",
              "      <th>CF</th>\n",
              "      <th>CM</th>\n",
              "      <th>ID</th>\n",
              "      <th>LAM</th>\n",
              "      <th>LB</th>\n",
              "      <th>LCB</th>\n",
              "      <th>LCM</th>\n",
              "      <th>LDM</th>\n",
              "      <th>LF</th>\n",
              "      <th>LM</th>\n",
              "      <th>LS</th>\n",
              "      <th>LW</th>\n",
              "      <th>LWB</th>\n",
              "      <th>Preferred Positions</th>\n",
              "      <th>RAM</th>\n",
              "      <th>RB</th>\n",
              "      <th>RCB</th>\n",
              "      <th>RCM</th>\n",
              "      <th>RDM</th>\n",
              "      <th>RF</th>\n",
              "      <th>RM</th>\n",
              "      <th>RS</th>\n",
              "      <th>RW</th>\n",
              "      <th>RWB</th>\n",
              "      <th>ST</th>\n",
              "    </tr>\n",
              "  </thead>\n",
              "  <tbody>\n",
              "    <tr>\n",
              "      <th>0</th>\n",
              "      <td>0</td>\n",
              "      <td>Cristiano Ronaldo</td>\n",
              "      <td>32</td>\n",
              "      <td>https://cdn.sofifa.org/48/18/players/20801.png</td>\n",
              "      <td>Portugal</td>\n",
              "      <td>https://cdn.sofifa.org/flags/38.png</td>\n",
              "      <td>94</td>\n",
              "      <td>94</td>\n",
              "      <td>Real Madrid CF</td>\n",
              "      <td>https://cdn.sofifa.org/24/18/teams/243.png</td>\n",
              "      <td>€95.5M</td>\n",
              "      <td>€565K</td>\n",
              "      <td>2228</td>\n",
              "      <td>89</td>\n",
              "      <td>63</td>\n",
              "      <td>89</td>\n",
              "      <td>63</td>\n",
              "      <td>93</td>\n",
              "      <td>95</td>\n",
              "      <td>85</td>\n",
              "      <td>81</td>\n",
              "      <td>91</td>\n",
              "      <td>94</td>\n",
              "      <td>76</td>\n",
              "      <td>7</td>\n",
              "      <td>11</td>\n",
              "      <td>15</td>\n",
              "      <td>14</td>\n",
              "      <td>11</td>\n",
              "      <td>88</td>\n",
              "      <td>29</td>\n",
              "      <td>95</td>\n",
              "      <td>77</td>\n",
              "      <td>92</td>\n",
              "      <td>22</td>\n",
              "      <td>85</td>\n",
              "      <td>95</td>\n",
              "      <td>96</td>\n",
              "      <td>83</td>\n",
              "      <td>94</td>\n",
              "      <td>23</td>\n",
              "      <td>91</td>\n",
              "      <td>92</td>\n",
              "      <td>31</td>\n",
              "      <td>80</td>\n",
              "      <td>85</td>\n",
              "      <td>88</td>\n",
              "      <td>89.0</td>\n",
              "      <td>53.0</td>\n",
              "      <td>62.0</td>\n",
              "      <td>91.0</td>\n",
              "      <td>82.0</td>\n",
              "      <td>20801</td>\n",
              "      <td>89.0</td>\n",
              "      <td>61.0</td>\n",
              "      <td>53.0</td>\n",
              "      <td>82.0</td>\n",
              "      <td>62.0</td>\n",
              "      <td>91.0</td>\n",
              "      <td>89.0</td>\n",
              "      <td>92.0</td>\n",
              "      <td>91.0</td>\n",
              "      <td>66.0</td>\n",
              "      <td>ST LW</td>\n",
              "      <td>89.0</td>\n",
              "      <td>61.0</td>\n",
              "      <td>53.0</td>\n",
              "      <td>82.0</td>\n",
              "      <td>62.0</td>\n",
              "      <td>91.0</td>\n",
              "      <td>89.0</td>\n",
              "      <td>92.0</td>\n",
              "      <td>91.0</td>\n",
              "      <td>66.0</td>\n",
              "      <td>92.0</td>\n",
              "    </tr>\n",
              "    <tr>\n",
              "      <th>1</th>\n",
              "      <td>1</td>\n",
              "      <td>L. Messi</td>\n",
              "      <td>30</td>\n",
              "      <td>https://cdn.sofifa.org/48/18/players/158023.png</td>\n",
              "      <td>Argentina</td>\n",
              "      <td>https://cdn.sofifa.org/flags/52.png</td>\n",
              "      <td>93</td>\n",
              "      <td>93</td>\n",
              "      <td>FC Barcelona</td>\n",
              "      <td>https://cdn.sofifa.org/24/18/teams/241.png</td>\n",
              "      <td>€105M</td>\n",
              "      <td>€565K</td>\n",
              "      <td>2154</td>\n",
              "      <td>92</td>\n",
              "      <td>48</td>\n",
              "      <td>90</td>\n",
              "      <td>95</td>\n",
              "      <td>95</td>\n",
              "      <td>96</td>\n",
              "      <td>77</td>\n",
              "      <td>89</td>\n",
              "      <td>97</td>\n",
              "      <td>95</td>\n",
              "      <td>90</td>\n",
              "      <td>6</td>\n",
              "      <td>11</td>\n",
              "      <td>15</td>\n",
              "      <td>14</td>\n",
              "      <td>8</td>\n",
              "      <td>71</td>\n",
              "      <td>22</td>\n",
              "      <td>68</td>\n",
              "      <td>87</td>\n",
              "      <td>88</td>\n",
              "      <td>13</td>\n",
              "      <td>74</td>\n",
              "      <td>93</td>\n",
              "      <td>95</td>\n",
              "      <td>88</td>\n",
              "      <td>85</td>\n",
              "      <td>26</td>\n",
              "      <td>87</td>\n",
              "      <td>73</td>\n",
              "      <td>28</td>\n",
              "      <td>59</td>\n",
              "      <td>90</td>\n",
              "      <td>85</td>\n",
              "      <td>92.0</td>\n",
              "      <td>45.0</td>\n",
              "      <td>59.0</td>\n",
              "      <td>92.0</td>\n",
              "      <td>84.0</td>\n",
              "      <td>158023</td>\n",
              "      <td>92.0</td>\n",
              "      <td>57.0</td>\n",
              "      <td>45.0</td>\n",
              "      <td>84.0</td>\n",
              "      <td>59.0</td>\n",
              "      <td>92.0</td>\n",
              "      <td>90.0</td>\n",
              "      <td>88.0</td>\n",
              "      <td>91.0</td>\n",
              "      <td>62.0</td>\n",
              "      <td>RW</td>\n",
              "      <td>92.0</td>\n",
              "      <td>57.0</td>\n",
              "      <td>45.0</td>\n",
              "      <td>84.0</td>\n",
              "      <td>59.0</td>\n",
              "      <td>92.0</td>\n",
              "      <td>90.0</td>\n",
              "      <td>88.0</td>\n",
              "      <td>91.0</td>\n",
              "      <td>62.0</td>\n",
              "      <td>88.0</td>\n",
              "    </tr>\n",
              "    <tr>\n",
              "      <th>2</th>\n",
              "      <td>2</td>\n",
              "      <td>Neymar</td>\n",
              "      <td>25</td>\n",
              "      <td>https://cdn.sofifa.org/48/18/players/190871.png</td>\n",
              "      <td>Brazil</td>\n",
              "      <td>https://cdn.sofifa.org/flags/54.png</td>\n",
              "      <td>92</td>\n",
              "      <td>94</td>\n",
              "      <td>Paris Saint-Germain</td>\n",
              "      <td>https://cdn.sofifa.org/24/18/teams/73.png</td>\n",
              "      <td>€123M</td>\n",
              "      <td>€280K</td>\n",
              "      <td>2100</td>\n",
              "      <td>94</td>\n",
              "      <td>56</td>\n",
              "      <td>96</td>\n",
              "      <td>82</td>\n",
              "      <td>95</td>\n",
              "      <td>92</td>\n",
              "      <td>75</td>\n",
              "      <td>81</td>\n",
              "      <td>96</td>\n",
              "      <td>89</td>\n",
              "      <td>84</td>\n",
              "      <td>9</td>\n",
              "      <td>9</td>\n",
              "      <td>15</td>\n",
              "      <td>15</td>\n",
              "      <td>11</td>\n",
              "      <td>62</td>\n",
              "      <td>36</td>\n",
              "      <td>61</td>\n",
              "      <td>75</td>\n",
              "      <td>77</td>\n",
              "      <td>21</td>\n",
              "      <td>81</td>\n",
              "      <td>90</td>\n",
              "      <td>88</td>\n",
              "      <td>81</td>\n",
              "      <td>80</td>\n",
              "      <td>33</td>\n",
              "      <td>90</td>\n",
              "      <td>78</td>\n",
              "      <td>24</td>\n",
              "      <td>53</td>\n",
              "      <td>80</td>\n",
              "      <td>83</td>\n",
              "      <td>88.0</td>\n",
              "      <td>46.0</td>\n",
              "      <td>59.0</td>\n",
              "      <td>88.0</td>\n",
              "      <td>79.0</td>\n",
              "      <td>190871</td>\n",
              "      <td>88.0</td>\n",
              "      <td>59.0</td>\n",
              "      <td>46.0</td>\n",
              "      <td>79.0</td>\n",
              "      <td>59.0</td>\n",
              "      <td>88.0</td>\n",
              "      <td>87.0</td>\n",
              "      <td>84.0</td>\n",
              "      <td>89.0</td>\n",
              "      <td>64.0</td>\n",
              "      <td>LW</td>\n",
              "      <td>88.0</td>\n",
              "      <td>59.0</td>\n",
              "      <td>46.0</td>\n",
              "      <td>79.0</td>\n",
              "      <td>59.0</td>\n",
              "      <td>88.0</td>\n",
              "      <td>87.0</td>\n",
              "      <td>84.0</td>\n",
              "      <td>89.0</td>\n",
              "      <td>64.0</td>\n",
              "      <td>84.0</td>\n",
              "    </tr>\n",
              "    <tr>\n",
              "      <th>3</th>\n",
              "      <td>3</td>\n",
              "      <td>L. Suárez</td>\n",
              "      <td>30</td>\n",
              "      <td>https://cdn.sofifa.org/48/18/players/176580.png</td>\n",
              "      <td>Uruguay</td>\n",
              "      <td>https://cdn.sofifa.org/flags/60.png</td>\n",
              "      <td>92</td>\n",
              "      <td>92</td>\n",
              "      <td>FC Barcelona</td>\n",
              "      <td>https://cdn.sofifa.org/24/18/teams/241.png</td>\n",
              "      <td>€97M</td>\n",
              "      <td>€510K</td>\n",
              "      <td>2291</td>\n",
              "      <td>88</td>\n",
              "      <td>78</td>\n",
              "      <td>86</td>\n",
              "      <td>60</td>\n",
              "      <td>91</td>\n",
              "      <td>83</td>\n",
              "      <td>77</td>\n",
              "      <td>86</td>\n",
              "      <td>86</td>\n",
              "      <td>94</td>\n",
              "      <td>84</td>\n",
              "      <td>27</td>\n",
              "      <td>25</td>\n",
              "      <td>31</td>\n",
              "      <td>33</td>\n",
              "      <td>37</td>\n",
              "      <td>77</td>\n",
              "      <td>41</td>\n",
              "      <td>69</td>\n",
              "      <td>64</td>\n",
              "      <td>86</td>\n",
              "      <td>30</td>\n",
              "      <td>85</td>\n",
              "      <td>92</td>\n",
              "      <td>93</td>\n",
              "      <td>83</td>\n",
              "      <td>87</td>\n",
              "      <td>38</td>\n",
              "      <td>77</td>\n",
              "      <td>89</td>\n",
              "      <td>45</td>\n",
              "      <td>80</td>\n",
              "      <td>84</td>\n",
              "      <td>88</td>\n",
              "      <td>87.0</td>\n",
              "      <td>58.0</td>\n",
              "      <td>65.0</td>\n",
              "      <td>88.0</td>\n",
              "      <td>80.0</td>\n",
              "      <td>176580</td>\n",
              "      <td>87.0</td>\n",
              "      <td>64.0</td>\n",
              "      <td>58.0</td>\n",
              "      <td>80.0</td>\n",
              "      <td>65.0</td>\n",
              "      <td>88.0</td>\n",
              "      <td>85.0</td>\n",
              "      <td>88.0</td>\n",
              "      <td>87.0</td>\n",
              "      <td>68.0</td>\n",
              "      <td>ST</td>\n",
              "      <td>87.0</td>\n",
              "      <td>64.0</td>\n",
              "      <td>58.0</td>\n",
              "      <td>80.0</td>\n",
              "      <td>65.0</td>\n",
              "      <td>88.0</td>\n",
              "      <td>85.0</td>\n",
              "      <td>88.0</td>\n",
              "      <td>87.0</td>\n",
              "      <td>68.0</td>\n",
              "      <td>88.0</td>\n",
              "    </tr>\n",
              "    <tr>\n",
              "      <th>4</th>\n",
              "      <td>4</td>\n",
              "      <td>M. Neuer</td>\n",
              "      <td>31</td>\n",
              "      <td>https://cdn.sofifa.org/48/18/players/167495.png</td>\n",
              "      <td>Germany</td>\n",
              "      <td>https://cdn.sofifa.org/flags/21.png</td>\n",
              "      <td>92</td>\n",
              "      <td>92</td>\n",
              "      <td>FC Bayern Munich</td>\n",
              "      <td>https://cdn.sofifa.org/24/18/teams/21.png</td>\n",
              "      <td>€61M</td>\n",
              "      <td>€230K</td>\n",
              "      <td>1493</td>\n",
              "      <td>58</td>\n",
              "      <td>29</td>\n",
              "      <td>52</td>\n",
              "      <td>35</td>\n",
              "      <td>48</td>\n",
              "      <td>70</td>\n",
              "      <td>15</td>\n",
              "      <td>14</td>\n",
              "      <td>30</td>\n",
              "      <td>13</td>\n",
              "      <td>11</td>\n",
              "      <td>91</td>\n",
              "      <td>90</td>\n",
              "      <td>95</td>\n",
              "      <td>91</td>\n",
              "      <td>89</td>\n",
              "      <td>25</td>\n",
              "      <td>30</td>\n",
              "      <td>78</td>\n",
              "      <td>59</td>\n",
              "      <td>16</td>\n",
              "      <td>10</td>\n",
              "      <td>47</td>\n",
              "      <td>12</td>\n",
              "      <td>85</td>\n",
              "      <td>55</td>\n",
              "      <td>25</td>\n",
              "      <td>11</td>\n",
              "      <td>61</td>\n",
              "      <td>44</td>\n",
              "      <td>10</td>\n",
              "      <td>83</td>\n",
              "      <td>70</td>\n",
              "      <td>11</td>\n",
              "      <td>NaN</td>\n",
              "      <td>NaN</td>\n",
              "      <td>NaN</td>\n",
              "      <td>NaN</td>\n",
              "      <td>NaN</td>\n",
              "      <td>167495</td>\n",
              "      <td>NaN</td>\n",
              "      <td>NaN</td>\n",
              "      <td>NaN</td>\n",
              "      <td>NaN</td>\n",
              "      <td>NaN</td>\n",
              "      <td>NaN</td>\n",
              "      <td>NaN</td>\n",
              "      <td>NaN</td>\n",
              "      <td>NaN</td>\n",
              "      <td>NaN</td>\n",
              "      <td>GK</td>\n",
              "      <td>NaN</td>\n",
              "      <td>NaN</td>\n",
              "      <td>NaN</td>\n",
              "      <td>NaN</td>\n",
              "      <td>NaN</td>\n",
              "      <td>NaN</td>\n",
              "      <td>NaN</td>\n",
              "      <td>NaN</td>\n",
              "      <td>NaN</td>\n",
              "      <td>NaN</td>\n",
              "      <td>NaN</td>\n",
              "    </tr>\n",
              "  </tbody>\n",
              "</table>\n",
              "</div>"
            ],
            "text/plain": [
              "   Unnamed: 0               Name  Age  ...    RW   RWB    ST\n",
              "0           0  Cristiano Ronaldo   32  ...  91.0  66.0  92.0\n",
              "1           1           L. Messi   30  ...  91.0  62.0  88.0\n",
              "2           2             Neymar   25  ...  89.0  64.0  84.0\n",
              "3           3          L. Suárez   30  ...  87.0  68.0  88.0\n",
              "4           4           M. Neuer   31  ...   NaN   NaN   NaN\n",
              "\n",
              "[5 rows x 75 columns]"
            ]
          },
          "metadata": {
            "tags": []
          },
          "execution_count": 9
        }
      ]
    },
    {
      "cell_type": "markdown",
      "metadata": {
        "id": "1seDF3kdoTjX",
        "colab_type": "text"
      },
      "source": [
        "# Data Preprocessing"
      ]
    },
    {
      "cell_type": "code",
      "metadata": {
        "id": "DSbjSN6foTjY",
        "colab_type": "code",
        "colab": {}
      },
      "source": [
        "#Removing unnecessary columns"
      ],
      "execution_count": 0,
      "outputs": []
    },
    {
      "cell_type": "code",
      "metadata": {
        "id": "qXHq3WZmoTjb",
        "colab_type": "code",
        "colab": {}
      },
      "source": [
        "fifa=fifa.drop(['Unnamed: 0','Flag','Photo','Club Logo'],axis=1)"
      ],
      "execution_count": 0,
      "outputs": []
    },
    {
      "cell_type": "code",
      "metadata": {
        "id": "9FhDwhbHoTjd",
        "colab_type": "code",
        "colab": {}
      },
      "source": [
        "#Checking null values"
      ],
      "execution_count": 0,
      "outputs": []
    },
    {
      "cell_type": "code",
      "metadata": {
        "id": "vde72593oTjg",
        "colab_type": "code",
        "outputId": "4d832019-00e7-4105-cb66-9c42b52768f6",
        "colab": {
          "base_uri": "https://localhost:8080/",
          "height": 1000
        }
      },
      "source": [
        "fifa.isna().sum()"
      ],
      "execution_count": 13,
      "outputs": [
        {
          "output_type": "execute_result",
          "data": {
            "text/plain": [
              "Name                      0\n",
              "Age                       0\n",
              "Nationality               0\n",
              "Overall                   0\n",
              "Potential                 0\n",
              "Club                    248\n",
              "Value                     0\n",
              "Wage                      0\n",
              "Special                   0\n",
              "Acceleration              0\n",
              "Aggression                0\n",
              "Agility                   0\n",
              "Balance                   0\n",
              "Ball control              0\n",
              "Composure                 0\n",
              "Crossing                  0\n",
              "Curve                     0\n",
              "Dribbling                 0\n",
              "Finishing                 0\n",
              "Free kick accuracy        0\n",
              "GK diving                 0\n",
              "GK handling               0\n",
              "GK kicking                0\n",
              "GK positioning            0\n",
              "GK reflexes               0\n",
              "Heading accuracy          0\n",
              "Interceptions             0\n",
              "Jumping                   0\n",
              "Long passing              0\n",
              "Long shots                0\n",
              "                       ... \n",
              "Vision                    0\n",
              "Volleys                   0\n",
              "CAM                    2029\n",
              "CB                     2029\n",
              "CDM                    2029\n",
              "CF                     2029\n",
              "CM                     2029\n",
              "ID                        0\n",
              "LAM                    2029\n",
              "LB                     2029\n",
              "LCB                    2029\n",
              "LCM                    2029\n",
              "LDM                    2029\n",
              "LF                     2029\n",
              "LM                     2029\n",
              "LS                     2029\n",
              "LW                     2029\n",
              "LWB                    2029\n",
              "Preferred Positions       0\n",
              "RAM                    2029\n",
              "RB                     2029\n",
              "RCB                    2029\n",
              "RCM                    2029\n",
              "RDM                    2029\n",
              "RF                     2029\n",
              "RM                     2029\n",
              "RS                     2029\n",
              "RW                     2029\n",
              "RWB                    2029\n",
              "ST                     2029\n",
              "Length: 71, dtype: int64"
            ]
          },
          "metadata": {
            "tags": []
          },
          "execution_count": 13
        }
      ]
    },
    {
      "cell_type": "code",
      "metadata": {
        "id": "2HMZbxSJoTjl",
        "colab_type": "code",
        "colab": {}
      },
      "source": [
        "#filling null values in club column by u and other null values by 0"
      ],
      "execution_count": 0,
      "outputs": []
    },
    {
      "cell_type": "code",
      "metadata": {
        "id": "UMy1HvcDoTjo",
        "colab_type": "code",
        "colab": {}
      },
      "source": [
        "fifa['Club'].fillna('U',inplace=True)"
      ],
      "execution_count": 0,
      "outputs": []
    },
    {
      "cell_type": "code",
      "metadata": {
        "id": "S9MKiXk9oTjq",
        "colab_type": "code",
        "colab": {}
      },
      "source": [
        "fifa.fillna('0',inplace=True)"
      ],
      "execution_count": 0,
      "outputs": []
    },
    {
      "cell_type": "code",
      "metadata": {
        "id": "dIq_DksPoTjt",
        "colab_type": "code",
        "outputId": "86892815-e226-48fe-a479-c129852de45a",
        "colab": {
          "base_uri": "https://localhost:8080/",
          "height": 1000
        }
      },
      "source": [
        "fifa.isna().sum()#checking null values"
      ],
      "execution_count": 17,
      "outputs": [
        {
          "output_type": "execute_result",
          "data": {
            "text/plain": [
              "Name                   0\n",
              "Age                    0\n",
              "Nationality            0\n",
              "Overall                0\n",
              "Potential              0\n",
              "Club                   0\n",
              "Value                  0\n",
              "Wage                   0\n",
              "Special                0\n",
              "Acceleration           0\n",
              "Aggression             0\n",
              "Agility                0\n",
              "Balance                0\n",
              "Ball control           0\n",
              "Composure              0\n",
              "Crossing               0\n",
              "Curve                  0\n",
              "Dribbling              0\n",
              "Finishing              0\n",
              "Free kick accuracy     0\n",
              "GK diving              0\n",
              "GK handling            0\n",
              "GK kicking             0\n",
              "GK positioning         0\n",
              "GK reflexes            0\n",
              "Heading accuracy       0\n",
              "Interceptions          0\n",
              "Jumping                0\n",
              "Long passing           0\n",
              "Long shots             0\n",
              "                      ..\n",
              "Vision                 0\n",
              "Volleys                0\n",
              "CAM                    0\n",
              "CB                     0\n",
              "CDM                    0\n",
              "CF                     0\n",
              "CM                     0\n",
              "ID                     0\n",
              "LAM                    0\n",
              "LB                     0\n",
              "LCB                    0\n",
              "LCM                    0\n",
              "LDM                    0\n",
              "LF                     0\n",
              "LM                     0\n",
              "LS                     0\n",
              "LW                     0\n",
              "LWB                    0\n",
              "Preferred Positions    0\n",
              "RAM                    0\n",
              "RB                     0\n",
              "RCB                    0\n",
              "RCM                    0\n",
              "RDM                    0\n",
              "RF                     0\n",
              "RM                     0\n",
              "RS                     0\n",
              "RW                     0\n",
              "RWB                    0\n",
              "ST                     0\n",
              "Length: 71, dtype: int64"
            ]
          },
          "metadata": {
            "tags": []
          },
          "execution_count": 17
        }
      ]
    },
    {
      "cell_type": "code",
      "metadata": {
        "id": "mmIFRw82oTjw",
        "colab_type": "code",
        "colab": {}
      },
      "source": [
        "#Dropping Preferred positions for convienient removal of symbols inn dataset"
      ],
      "execution_count": 0,
      "outputs": []
    },
    {
      "cell_type": "code",
      "metadata": {
        "id": "eGiPmvrZoTjz",
        "colab_type": "code",
        "colab": {}
      },
      "source": [
        "f=fifa['Preferred Positions']"
      ],
      "execution_count": 0,
      "outputs": []
    },
    {
      "cell_type": "code",
      "metadata": {
        "id": "T4ZASKXDoTj2",
        "colab_type": "code",
        "colab": {}
      },
      "source": [
        "fifa=fifa.drop(['Preferred Positions'],axis=1)"
      ],
      "execution_count": 0,
      "outputs": []
    },
    {
      "cell_type": "code",
      "metadata": {
        "id": "6-7wSexhoTj5",
        "colab_type": "code",
        "colab": {}
      },
      "source": [
        "#remove all symbols"
      ],
      "execution_count": 0,
      "outputs": []
    },
    {
      "cell_type": "code",
      "metadata": {
        "id": "KbuBYEcFoTj7",
        "colab_type": "code",
        "colab": {}
      },
      "source": [
        "def fix(x):\n",
        "    x = str(x)\n",
        "    if('+' in x):\n",
        "        calc = x.split('+')\n",
        "        return int(calc[0]) + int(calc[1])\n",
        "    elif('-' in x):\n",
        "        calc = x.split('-')\n",
        "        return int(calc[0]) - int(calc[1])\n",
        "    elif x.isdigit():\n",
        "        return int(x)\n",
        "    else:\n",
        "         return float(x)\n",
        "for column in fifa.iloc[:,9:72]:\n",
        "    fifa[column] = fifa[column].apply(fix)\n"
      ],
      "execution_count": 0,
      "outputs": []
    },
    {
      "cell_type": "code",
      "metadata": {
        "id": "JSwicofXoTkA",
        "colab_type": "code",
        "colab": {}
      },
      "source": [
        "# removal of special symbols"
      ],
      "execution_count": 0,
      "outputs": []
    },
    {
      "cell_type": "code",
      "metadata": {
        "id": "DgzgBQ6yoTkF",
        "colab_type": "code",
        "colab": {}
      },
      "source": [
        "fifa['Value'] = fifa['Value'].str.replace('€','')\n",
        "fifa['Wage'] = fifa['Wage'].str.replace('€',' ')"
      ],
      "execution_count": 0,
      "outputs": []
    },
    {
      "cell_type": "code",
      "metadata": {
        "id": "U8lpQLbToTkM",
        "colab_type": "code",
        "colab": {}
      },
      "source": [
        "#dropping string columns"
      ],
      "execution_count": 0,
      "outputs": []
    },
    {
      "cell_type": "code",
      "metadata": {
        "id": "5wzTQwTAoTkS",
        "colab_type": "code",
        "colab": {}
      },
      "source": [
        "fifa=fifa.drop(['Name','Nationality','Club','Value','Wage'],axis=1)"
      ],
      "execution_count": 0,
      "outputs": []
    },
    {
      "cell_type": "markdown",
      "metadata": {
        "id": "ouK7nG0ZoTkV",
        "colab_type": "text"
      },
      "source": [
        "# Correlation"
      ]
    },
    {
      "cell_type": "code",
      "metadata": {
        "id": "wOZtdt9xoTkW",
        "colab_type": "code",
        "outputId": "f6bcefd4-9aaf-4322-e58d-7a007fd68b60",
        "colab": {
          "base_uri": "https://localhost:8080/",
          "height": 589
        }
      },
      "source": [
        "plt.figure(figsize=(10,8))\n",
        "sns.heatmap(fifa.corr())"
      ],
      "execution_count": 27,
      "outputs": [
        {
          "output_type": "execute_result",
          "data": {
            "text/plain": [
              "<matplotlib.axes._subplots.AxesSubplot at 0x7f1a83330048>"
            ]
          },
          "metadata": {
            "tags": []
          },
          "execution_count": 27
        },
        {
          "output_type": "display_data",
          "data": {
            "image/png": "[encoded data removed]",
            "text/plain": [
              "<Figure size 720x576 with 2 Axes>"
            ]
          },
          "metadata": {
            "tags": []
          }
        }
      ]
    },
    {
      "cell_type": "markdown",
      "metadata": {
        "id": "EkmIElDDoTkZ",
        "colab_type": "text"
      },
      "source": [
        "# Train_Test_Split"
      ]
    },
    {
      "cell_type": "code",
      "metadata": {
        "id": "gGkOOKncoTka",
        "colab_type": "code",
        "outputId": "e474ac1d-cc6b-4fce-e211-816ef810210c",
        "colab": {
          "base_uri": "https://localhost:8080/",
          "height": 261
        }
      },
      "source": [
        "x=fifa.drop(['Overall'],axis=1)\n",
        "y=fifa['Overall']\n",
        "x_train,x_test,y_train,y_test=train_test_split(x,y,test_size=0.3,random_state=0)\n",
        "x.head()"
      ],
      "execution_count": 28,
      "outputs": [
        {
          "output_type": "execute_result",
          "data": {
            "text/html": [
              "<div>\n",
              "<style scoped>\n",
              "    .dataframe tbody tr th:only-of-type {\n",
              "        vertical-align: middle;\n",
              "    }\n",
              "\n",
              "    .dataframe tbody tr th {\n",
              "        vertical-align: top;\n",
              "    }\n",
              "\n",
              "    .dataframe thead th {\n",
              "        text-align: right;\n",
              "    }\n",
              "</style>\n",
              "<table border=\"1\" class=\"dataframe\">\n",
              "  <thead>\n",
              "    <tr style=\"text-align: right;\">\n",
              "      <th></th>\n",
              "      <th>Age</th>\n",
              "      <th>Potential</th>\n",
              "      <th>Special</th>\n",
              "      <th>Acceleration</th>\n",
              "      <th>Aggression</th>\n",
              "      <th>Agility</th>\n",
              "      <th>Balance</th>\n",
              "      <th>Ball control</th>\n",
              "      <th>Composure</th>\n",
              "      <th>Crossing</th>\n",
              "      <th>Curve</th>\n",
              "      <th>Dribbling</th>\n",
              "      <th>Finishing</th>\n",
              "      <th>Free kick accuracy</th>\n",
              "      <th>GK diving</th>\n",
              "      <th>GK handling</th>\n",
              "      <th>GK kicking</th>\n",
              "      <th>GK positioning</th>\n",
              "      <th>GK reflexes</th>\n",
              "      <th>Heading accuracy</th>\n",
              "      <th>Interceptions</th>\n",
              "      <th>Jumping</th>\n",
              "      <th>Long passing</th>\n",
              "      <th>Long shots</th>\n",
              "      <th>Marking</th>\n",
              "      <th>Penalties</th>\n",
              "      <th>Positioning</th>\n",
              "      <th>Reactions</th>\n",
              "      <th>Short passing</th>\n",
              "      <th>Shot power</th>\n",
              "      <th>Sliding tackle</th>\n",
              "      <th>Sprint speed</th>\n",
              "      <th>Stamina</th>\n",
              "      <th>Standing tackle</th>\n",
              "      <th>Strength</th>\n",
              "      <th>Vision</th>\n",
              "      <th>Volleys</th>\n",
              "      <th>CAM</th>\n",
              "      <th>CB</th>\n",
              "      <th>CDM</th>\n",
              "      <th>CF</th>\n",
              "      <th>CM</th>\n",
              "      <th>ID</th>\n",
              "      <th>LAM</th>\n",
              "      <th>LB</th>\n",
              "      <th>LCB</th>\n",
              "      <th>LCM</th>\n",
              "      <th>LDM</th>\n",
              "      <th>LF</th>\n",
              "      <th>LM</th>\n",
              "      <th>LS</th>\n",
              "      <th>LW</th>\n",
              "      <th>LWB</th>\n",
              "      <th>RAM</th>\n",
              "      <th>RB</th>\n",
              "      <th>RCB</th>\n",
              "      <th>RCM</th>\n",
              "      <th>RDM</th>\n",
              "      <th>RF</th>\n",
              "      <th>RM</th>\n",
              "      <th>RS</th>\n",
              "      <th>RW</th>\n",
              "      <th>RWB</th>\n",
              "      <th>ST</th>\n",
              "    </tr>\n",
              "  </thead>\n",
              "  <tbody>\n",
              "    <tr>\n",
              "      <th>0</th>\n",
              "      <td>32</td>\n",
              "      <td>94</td>\n",
              "      <td>2228</td>\n",
              "      <td>89</td>\n",
              "      <td>63</td>\n",
              "      <td>89</td>\n",
              "      <td>63</td>\n",
              "      <td>93</td>\n",
              "      <td>95</td>\n",
              "      <td>85</td>\n",
              "      <td>81</td>\n",
              "      <td>91</td>\n",
              "      <td>94</td>\n",
              "      <td>76</td>\n",
              "      <td>7</td>\n",
              "      <td>11</td>\n",
              "      <td>15</td>\n",
              "      <td>14</td>\n",
              "      <td>11</td>\n",
              "      <td>88</td>\n",
              "      <td>29</td>\n",
              "      <td>95</td>\n",
              "      <td>77</td>\n",
              "      <td>92</td>\n",
              "      <td>22</td>\n",
              "      <td>85</td>\n",
              "      <td>95</td>\n",
              "      <td>96</td>\n",
              "      <td>83</td>\n",
              "      <td>94</td>\n",
              "      <td>23</td>\n",
              "      <td>91</td>\n",
              "      <td>92</td>\n",
              "      <td>31</td>\n",
              "      <td>80</td>\n",
              "      <td>85</td>\n",
              "      <td>88</td>\n",
              "      <td>89.0</td>\n",
              "      <td>53.0</td>\n",
              "      <td>62.0</td>\n",
              "      <td>91.0</td>\n",
              "      <td>82.0</td>\n",
              "      <td>20801</td>\n",
              "      <td>89.0</td>\n",
              "      <td>61.0</td>\n",
              "      <td>53.0</td>\n",
              "      <td>82.0</td>\n",
              "      <td>62.0</td>\n",
              "      <td>91.0</td>\n",
              "      <td>89.0</td>\n",
              "      <td>92.0</td>\n",
              "      <td>91.0</td>\n",
              "      <td>66.0</td>\n",
              "      <td>89.0</td>\n",
              "      <td>61.0</td>\n",
              "      <td>53.0</td>\n",
              "      <td>82.0</td>\n",
              "      <td>62.0</td>\n",
              "      <td>91.0</td>\n",
              "      <td>89.0</td>\n",
              "      <td>92.0</td>\n",
              "      <td>91.0</td>\n",
              "      <td>66.0</td>\n",
              "      <td>92.0</td>\n",
              "    </tr>\n",
              "    <tr>\n",
              "      <th>1</th>\n",
              "      <td>30</td>\n",
              "      <td>93</td>\n",
              "      <td>2154</td>\n",
              "      <td>92</td>\n",
              "      <td>48</td>\n",
              "      <td>90</td>\n",
              "      <td>95</td>\n",
              "      <td>95</td>\n",
              "      <td>96</td>\n",
              "      <td>77</td>\n",
              "      <td>89</td>\n",
              "      <td>97</td>\n",
              "      <td>95</td>\n",
              "      <td>90</td>\n",
              "      <td>6</td>\n",
              "      <td>11</td>\n",
              "      <td>15</td>\n",
              "      <td>14</td>\n",
              "      <td>8</td>\n",
              "      <td>71</td>\n",
              "      <td>22</td>\n",
              "      <td>68</td>\n",
              "      <td>87</td>\n",
              "      <td>88</td>\n",
              "      <td>13</td>\n",
              "      <td>74</td>\n",
              "      <td>93</td>\n",
              "      <td>95</td>\n",
              "      <td>88</td>\n",
              "      <td>85</td>\n",
              "      <td>26</td>\n",
              "      <td>87</td>\n",
              "      <td>73</td>\n",
              "      <td>28</td>\n",
              "      <td>59</td>\n",
              "      <td>90</td>\n",
              "      <td>85</td>\n",
              "      <td>92.0</td>\n",
              "      <td>45.0</td>\n",
              "      <td>59.0</td>\n",
              "      <td>92.0</td>\n",
              "      <td>84.0</td>\n",
              "      <td>158023</td>\n",
              "      <td>92.0</td>\n",
              "      <td>57.0</td>\n",
              "      <td>45.0</td>\n",
              "      <td>84.0</td>\n",
              "      <td>59.0</td>\n",
              "      <td>92.0</td>\n",
              "      <td>90.0</td>\n",
              "      <td>88.0</td>\n",
              "      <td>91.0</td>\n",
              "      <td>62.0</td>\n",
              "      <td>92.0</td>\n",
              "      <td>57.0</td>\n",
              "      <td>45.0</td>\n",
              "      <td>84.0</td>\n",
              "      <td>59.0</td>\n",
              "      <td>92.0</td>\n",
              "      <td>90.0</td>\n",
              "      <td>88.0</td>\n",
              "      <td>91.0</td>\n",
              "      <td>62.0</td>\n",
              "      <td>88.0</td>\n",
              "    </tr>\n",
              "    <tr>\n",
              "      <th>2</th>\n",
              "      <td>25</td>\n",
              "      <td>94</td>\n",
              "      <td>2100</td>\n",
              "      <td>94</td>\n",
              "      <td>56</td>\n",
              "      <td>96</td>\n",
              "      <td>82</td>\n",
              "      <td>95</td>\n",
              "      <td>92</td>\n",
              "      <td>75</td>\n",
              "      <td>81</td>\n",
              "      <td>96</td>\n",
              "      <td>89</td>\n",
              "      <td>84</td>\n",
              "      <td>9</td>\n",
              "      <td>9</td>\n",
              "      <td>15</td>\n",
              "      <td>15</td>\n",
              "      <td>11</td>\n",
              "      <td>62</td>\n",
              "      <td>36</td>\n",
              "      <td>61</td>\n",
              "      <td>75</td>\n",
              "      <td>77</td>\n",
              "      <td>21</td>\n",
              "      <td>81</td>\n",
              "      <td>90</td>\n",
              "      <td>88</td>\n",
              "      <td>81</td>\n",
              "      <td>80</td>\n",
              "      <td>33</td>\n",
              "      <td>90</td>\n",
              "      <td>78</td>\n",
              "      <td>24</td>\n",
              "      <td>53</td>\n",
              "      <td>80</td>\n",
              "      <td>83</td>\n",
              "      <td>88.0</td>\n",
              "      <td>46.0</td>\n",
              "      <td>59.0</td>\n",
              "      <td>88.0</td>\n",
              "      <td>79.0</td>\n",
              "      <td>190871</td>\n",
              "      <td>88.0</td>\n",
              "      <td>59.0</td>\n",
              "      <td>46.0</td>\n",
              "      <td>79.0</td>\n",
              "      <td>59.0</td>\n",
              "      <td>88.0</td>\n",
              "      <td>87.0</td>\n",
              "      <td>84.0</td>\n",
              "      <td>89.0</td>\n",
              "      <td>64.0</td>\n",
              "      <td>88.0</td>\n",
              "      <td>59.0</td>\n",
              "      <td>46.0</td>\n",
              "      <td>79.0</td>\n",
              "      <td>59.0</td>\n",
              "      <td>88.0</td>\n",
              "      <td>87.0</td>\n",
              "      <td>84.0</td>\n",
              "      <td>89.0</td>\n",
              "      <td>64.0</td>\n",
              "      <td>84.0</td>\n",
              "    </tr>\n",
              "    <tr>\n",
              "      <th>3</th>\n",
              "      <td>30</td>\n",
              "      <td>92</td>\n",
              "      <td>2291</td>\n",
              "      <td>88</td>\n",
              "      <td>78</td>\n",
              "      <td>86</td>\n",
              "      <td>60</td>\n",
              "      <td>91</td>\n",
              "      <td>83</td>\n",
              "      <td>77</td>\n",
              "      <td>86</td>\n",
              "      <td>86</td>\n",
              "      <td>94</td>\n",
              "      <td>84</td>\n",
              "      <td>27</td>\n",
              "      <td>25</td>\n",
              "      <td>31</td>\n",
              "      <td>33</td>\n",
              "      <td>37</td>\n",
              "      <td>77</td>\n",
              "      <td>41</td>\n",
              "      <td>69</td>\n",
              "      <td>64</td>\n",
              "      <td>86</td>\n",
              "      <td>30</td>\n",
              "      <td>85</td>\n",
              "      <td>92</td>\n",
              "      <td>93</td>\n",
              "      <td>83</td>\n",
              "      <td>87</td>\n",
              "      <td>38</td>\n",
              "      <td>77</td>\n",
              "      <td>89</td>\n",
              "      <td>45</td>\n",
              "      <td>80</td>\n",
              "      <td>84</td>\n",
              "      <td>88</td>\n",
              "      <td>87.0</td>\n",
              "      <td>58.0</td>\n",
              "      <td>65.0</td>\n",
              "      <td>88.0</td>\n",
              "      <td>80.0</td>\n",
              "      <td>176580</td>\n",
              "      <td>87.0</td>\n",
              "      <td>64.0</td>\n",
              "      <td>58.0</td>\n",
              "      <td>80.0</td>\n",
              "      <td>65.0</td>\n",
              "      <td>88.0</td>\n",
              "      <td>85.0</td>\n",
              "      <td>88.0</td>\n",
              "      <td>87.0</td>\n",
              "      <td>68.0</td>\n",
              "      <td>87.0</td>\n",
              "      <td>64.0</td>\n",
              "      <td>58.0</td>\n",
              "      <td>80.0</td>\n",
              "      <td>65.0</td>\n",
              "      <td>88.0</td>\n",
              "      <td>85.0</td>\n",
              "      <td>88.0</td>\n",
              "      <td>87.0</td>\n",
              "      <td>68.0</td>\n",
              "      <td>88.0</td>\n",
              "    </tr>\n",
              "    <tr>\n",
              "      <th>4</th>\n",
              "      <td>31</td>\n",
              "      <td>92</td>\n",
              "      <td>1493</td>\n",
              "      <td>58</td>\n",
              "      <td>29</td>\n",
              "      <td>52</td>\n",
              "      <td>35</td>\n",
              "      <td>48</td>\n",
              "      <td>70</td>\n",
              "      <td>15</td>\n",
              "      <td>14</td>\n",
              "      <td>30</td>\n",
              "      <td>13</td>\n",
              "      <td>11</td>\n",
              "      <td>91</td>\n",
              "      <td>90</td>\n",
              "      <td>95</td>\n",
              "      <td>91</td>\n",
              "      <td>89</td>\n",
              "      <td>25</td>\n",
              "      <td>30</td>\n",
              "      <td>78</td>\n",
              "      <td>59</td>\n",
              "      <td>16</td>\n",
              "      <td>10</td>\n",
              "      <td>47</td>\n",
              "      <td>12</td>\n",
              "      <td>85</td>\n",
              "      <td>55</td>\n",
              "      <td>25</td>\n",
              "      <td>11</td>\n",
              "      <td>61</td>\n",
              "      <td>44</td>\n",
              "      <td>10</td>\n",
              "      <td>83</td>\n",
              "      <td>70</td>\n",
              "      <td>11</td>\n",
              "      <td>0.0</td>\n",
              "      <td>0.0</td>\n",
              "      <td>0.0</td>\n",
              "      <td>0.0</td>\n",
              "      <td>0.0</td>\n",
              "      <td>167495</td>\n",
              "      <td>0.0</td>\n",
              "      <td>0.0</td>\n",
              "      <td>0.0</td>\n",
              "      <td>0.0</td>\n",
              "      <td>0.0</td>\n",
              "      <td>0.0</td>\n",
              "      <td>0.0</td>\n",
              "      <td>0.0</td>\n",
              "      <td>0.0</td>\n",
              "      <td>0.0</td>\n",
              "      <td>0.0</td>\n",
              "      <td>0.0</td>\n",
              "      <td>0.0</td>\n",
              "      <td>0.0</td>\n",
              "      <td>0.0</td>\n",
              "      <td>0.0</td>\n",
              "      <td>0.0</td>\n",
              "      <td>0.0</td>\n",
              "      <td>0.0</td>\n",
              "      <td>0.0</td>\n",
              "      <td>0.0</td>\n",
              "    </tr>\n",
              "  </tbody>\n",
              "</table>\n",
              "</div>"
            ],
            "text/plain": [
              "   Age  Potential  Special  Acceleration  ...    RS    RW   RWB    ST\n",
              "0   32         94     2228            89  ...  92.0  91.0  66.0  92.0\n",
              "1   30         93     2154            92  ...  88.0  91.0  62.0  88.0\n",
              "2   25         94     2100            94  ...  84.0  89.0  64.0  84.0\n",
              "3   30         92     2291            88  ...  88.0  87.0  68.0  88.0\n",
              "4   31         92     1493            58  ...   0.0   0.0   0.0   0.0\n",
              "\n",
              "[5 rows x 64 columns]"
            ]
          },
          "metadata": {
            "tags": []
          },
          "execution_count": 28
        }
      ]
    },
    {
      "cell_type": "markdown",
      "metadata": {
        "id": "QWqkaU7YoTke",
        "colab_type": "text"
      },
      "source": [
        "#  Linear Regression"
      ]
    },
    {
      "cell_type": "code",
      "metadata": {
        "id": "QLF1llR6oTkf",
        "colab_type": "code",
        "outputId": "aa164829-88ff-49aa-e95d-71c7f4659d1e",
        "colab": {
          "base_uri": "https://localhost:8080/",
          "height": 335
        }
      },
      "source": [
        "from sklearn.linear_model import LinearRegression\n",
        "lr=LinearRegression()\n",
        "lr.fit(x_train.values,y_train.values)\n",
        "print(lr.intercept_)\n",
        "print(lr.coef_)"
      ],
      "execution_count": 29,
      "outputs": [
        {
          "output_type": "stream",
          "text": [
            "-21.512317095271115\n",
            "[ 5.84440812e-01  5.60242041e-01  1.43228316e-02  3.94723031e-03\n",
            " -2.20208692e-02 -1.12564369e-02 -2.91873004e-02  4.26649210e-02\n",
            "  4.16085126e-02 -1.14241419e-02 -1.11065428e-02 -2.53984706e-02\n",
            " -2.12530988e-02 -8.25645655e-03  4.33701956e-02  4.19067107e-02\n",
            "  3.14150555e-02  2.86189919e-02  4.47284367e-02  2.57929904e-02\n",
            " -1.68461971e-02 -1.02711788e-02 -3.18484925e-02 -1.68638096e-02\n",
            " -1.26672909e-02 -2.45062728e-02 -5.05256363e-02  1.19340997e-01\n",
            "  1.36820620e-02 -1.38272089e-02 -3.27374170e-02  8.62577706e-05\n",
            " -1.82927459e-03 -4.23606045e-03  2.98046738e-03 -2.44414238e-02\n",
            " -1.17523182e-02 -2.87608658e-02 -1.02960829e-02  5.60437316e-02\n",
            " -3.52981662e-02 -1.77470637e-02  1.29948600e-05 -2.87608658e-02\n",
            " -3.32012265e-02 -1.02960829e-02 -1.77470637e-02  5.60437316e-02\n",
            " -3.52981662e-02  4.72799219e-02  5.00624951e-02  4.77561878e-02\n",
            "  1.18096291e-02 -2.87608658e-02 -3.32012265e-02 -1.02960829e-02\n",
            " -1.77470637e-02  5.60437316e-02 -3.52981662e-02  4.72799219e-02\n",
            "  5.00624951e-02  4.77561878e-02  1.18096291e-02  5.00624951e-02]\n"
          ],
          "name": "stdout"
        }
      ]
    },
    {
      "cell_type": "markdown",
      "metadata": {
        "id": "SZGL5QYfoTkj",
        "colab_type": "text"
      },
      "source": [
        "# RMSE Evaluation"
      ]
    },
    {
      "cell_type": "code",
      "metadata": {
        "id": "QMW0QF1RoTkk",
        "colab_type": "code",
        "outputId": "1404b17e-4b09-4bbf-f20b-629ce64747f4",
        "colab": {
          "base_uri": "https://localhost:8080/",
          "height": 54
        }
      },
      "source": [
        "from sklearn.metrics import mean_squared_error,r2_score\n",
        "import math\n",
        "\n",
        "train_pred_y=lr.predict(x_train)\n",
        "test_pred_y=lr.predict(x_test)\n",
        "print(\"Rmse train:\",math.sqrt(mean_squared_error(y_train,train_pred_y)))\n",
        "print(\"Rmse test:\",math.sqrt(mean_squared_error(y_test,test_pred_y)))"
      ],
      "execution_count": 30,
      "outputs": [
        {
          "output_type": "stream",
          "text": [
            "Rmse train: 1.8802039794249423\n",
            "Rmse test: 1.909527041067503\n"
          ],
          "name": "stdout"
        }
      ]
    },
    {
      "cell_type": "markdown",
      "metadata": {
        "id": "Vnd4UhmaoTko",
        "colab_type": "text"
      },
      "source": [
        "# Error Histogram"
      ]
    },
    {
      "cell_type": "code",
      "metadata": {
        "id": "lqns4__1oTko",
        "colab_type": "code",
        "outputId": "39406d37-9b04-4c89-92c7-5ded07b58c5d",
        "colab": {
          "base_uri": "https://localhost:8080/",
          "height": 456
        }
      },
      "source": [
        "plt.hist(y_test-test_pred_y,bins=20)"
      ],
      "execution_count": 31,
      "outputs": [
        {
          "output_type": "execute_result",
          "data": {
            "text/plain": [
              "(array([1.000e+00, 1.000e+00, 1.000e+00, 1.200e+01, 2.300e+01, 2.700e+01,\n",
              "        7.800e+01, 1.520e+02, 2.350e+02, 4.260e+02, 6.230e+02, 9.040e+02,\n",
              "        1.024e+03, 7.900e+02, 5.600e+02, 3.280e+02, 1.450e+02, 4.800e+01,\n",
              "        1.400e+01, 3.000e+00]),\n",
              " array([-9.6815076 , -8.87748922, -8.07347084, -7.26945246, -6.46543409,\n",
              "        -5.66141571, -4.85739733, -4.05337895, -3.24936057, -2.4453422 ,\n",
              "        -1.64132382, -0.83730544, -0.03328706,  0.77073132,  1.57474969,\n",
              "         2.37876807,  3.18278645,  3.98680483,  4.79082321,  5.59484158,\n",
              "         6.39885996]),\n",
              " <a list of 20 Patch objects>)"
            ]
          },
          "metadata": {
            "tags": []
          },
          "execution_count": 31
        },
        {
          "output_type": "display_data",
          "data": {
            "image/png": "[encoded data removed]",
            "text/plain": [
              "<Figure size 432x288 with 1 Axes>"
            ]
          },
          "metadata": {
            "tags": []
          }
        }
      ]
    },
    {
      "cell_type": "markdown",
      "metadata": {
        "id": "eDw-N2R_oTks",
        "colab_type": "text"
      },
      "source": [
        "# Random Forest Regressor"
      ]
    },
    {
      "cell_type": "code",
      "metadata": {
        "id": "RX8sVkVgoTkt",
        "colab_type": "code",
        "outputId": "9a26696d-5530-41fa-d213-bca375210b53",
        "colab": {
          "base_uri": "https://localhost:8080/",
          "height": 148
        }
      },
      "source": [
        "from sklearn.ensemble import RandomForestRegressor\n",
        "n_estimators=30\n",
        "# Fit regression model\n",
        "# Estimate the score on the entire dataset, with no missing values\n",
        "model = RandomForestRegressor(random_state=0, n_estimators=n_estimators)\n",
        "model.fit(x_train, y_train)"
      ],
      "execution_count": 32,
      "outputs": [
        {
          "output_type": "execute_result",
          "data": {
            "text/plain": [
              "RandomForestRegressor(bootstrap=True, criterion='mse', max_depth=None,\n",
              "                      max_features='auto', max_leaf_nodes=None,\n",
              "                      min_impurity_decrease=0.0, min_impurity_split=None,\n",
              "                      min_samples_leaf=1, min_samples_split=2,\n",
              "                      min_weight_fraction_leaf=0.0, n_estimators=30,\n",
              "                      n_jobs=None, oob_score=False, random_state=0, verbose=0,\n",
              "                      warm_start=False)"
            ]
          },
          "metadata": {
            "tags": []
          },
          "execution_count": 32
        }
      ]
    },
    {
      "cell_type": "code",
      "metadata": {
        "id": "OitSVvZDoTkw",
        "colab_type": "code",
        "outputId": "2eae64ed-9a53-4eda-876b-3b4c15f041df",
        "colab": {
          "base_uri": "https://localhost:8080/",
          "height": 54
        }
      },
      "source": [
        "\n",
        "train_pred_y = model.predict(x_train)\n",
        "test_pred_y = model.predict(x_test)\n",
        "print(\"Rmse train:\",math.sqrt(mean_squared_error(y_train,train_pred_y)))\n",
        "print(\"Rmse test:\",math.sqrt(mean_squared_error(y_test, test_pred_y)))"
      ],
      "execution_count": 33,
      "outputs": [
        {
          "output_type": "stream",
          "text": [
            "Rmse train: 0.3386182558815636\n",
            "Rmse test: 0.8246115095576735\n"
          ],
          "name": "stdout"
        }
      ]
    },
    {
      "cell_type": "markdown",
      "metadata": {
        "id": "MDXGln-goTkz",
        "colab_type": "text"
      },
      "source": [
        "# Decision Tree Regressor"
      ]
    },
    {
      "cell_type": "code",
      "metadata": {
        "id": "7YtOjvlHoTkz",
        "colab_type": "code",
        "outputId": "0826f5d6-df18-404a-ac2f-6c2c0c8bf1cd",
        "colab": {
          "base_uri": "https://localhost:8080/",
          "height": 111
        }
      },
      "source": [
        "from sklearn.tree import DecisionTreeRegressor\n",
        "regressor = DecisionTreeRegressor(random_state = 0)\n",
        "regressor.fit(x, y)"
      ],
      "execution_count": 34,
      "outputs": [
        {
          "output_type": "execute_result",
          "data": {
            "text/plain": [
              "DecisionTreeRegressor(criterion='mse', max_depth=None, max_features=None,\n",
              "                      max_leaf_nodes=None, min_impurity_decrease=0.0,\n",
              "                      min_impurity_split=None, min_samples_leaf=1,\n",
              "                      min_samples_split=2, min_weight_fraction_leaf=0.0,\n",
              "                      presort=False, random_state=0, splitter='best')"
            ]
          },
          "metadata": {
            "tags": []
          },
          "execution_count": 34
        }
      ]
    },
    {
      "cell_type": "code",
      "metadata": {
        "id": "2teRjt-XoTk2",
        "colab_type": "code",
        "outputId": "ed346f5e-578f-4ac2-bdf5-fd8e0fd77ad8",
        "colab": {
          "base_uri": "https://localhost:8080/",
          "height": 54
        }
      },
      "source": [
        "train_pred_y = regressor.predict(x_train)\n",
        "test_pred_y = regressor.predict(x_test)\n",
        "print(\"Rmse train:\",math.sqrt(mean_squared_error(y_train,train_pred_y)))\n",
        "print(\"Rmse test:\",math.sqrt(mean_squared_error(y_test, test_pred_y)))"
      ],
      "execution_count": 35,
      "outputs": [
        {
          "output_type": "stream",
          "text": [
            "Rmse train: 0.0\n",
            "Rmse test: 0.0\n"
          ],
          "name": "stdout"
        }
      ]
    },
    {
      "cell_type": "code",
      "metadata": {
        "id": "hKsJUMN0oTk6",
        "colab_type": "code",
        "colab": {}
      },
      "source": [
        ""
      ],
      "execution_count": 0,
      "outputs": []
    }
  ]
}